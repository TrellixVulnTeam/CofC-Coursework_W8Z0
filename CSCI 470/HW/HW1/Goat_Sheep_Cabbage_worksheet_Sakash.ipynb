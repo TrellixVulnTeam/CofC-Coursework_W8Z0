{
 "cells": [
  {
   "cell_type": "code",
   "execution_count": 4,
   "metadata": {},
   "outputs": [],
   "source": [
    "# Need to define what a state looks like. I'm going to make the state a tuple that has both sides of the river represented\n",
    "start_state = ((\"F\",\"C\",\"G\",\"W\"),())"
   ]
  },
  {
   "cell_type": "code",
   "execution_count": 5,
   "metadata": {},
   "outputs": [],
   "source": [
    "# Just a quick helper function for printing\n",
    "def state_to_string(s):\n",
    "    return \"\".join(s[0])+\"||\"+\"\".join(s[1])"
   ]
  },
  {
   "cell_type": "code",
   "execution_count": 6,
   "metadata": {},
   "outputs": [
    {
     "data": {
      "text/plain": [
       "'FCGW||'"
      ]
     },
     "execution_count": 6,
     "metadata": {},
     "output_type": "execute_result"
    }
   ],
   "source": [
    "state_to_string(start_state)"
   ]
  },
  {
   "cell_type": "code",
   "execution_count": 7,
   "metadata": {},
   "outputs": [],
   "source": [
    "# action(s) = possible actions\n",
    "def remove_actions(letter,possible_actions,s,farmer_inx):\n",
    "    if letter not in s[farmer_inx]:\n",
    "        new_possible_actions = []\n",
    "        for action in possible_actions:\n",
    "            if letter not in action:\n",
    "                new_possible_actions.append(action)\n",
    "    else: # Nothing to do\n",
    "        new_possible_actions = possible_actions\n",
    "    return new_possible_actions\n",
    "\n",
    "def action(s):\n",
    "    # Find out which side the farmer is on\n",
    "    farmer_inx = 0\n",
    "    if 'F' in s[1]:\n",
    "        farmer_inx = 1\n",
    "    possible_actions = [\"F>\",\"FC>\",\"FG>\",\"FW>\",\"F<\",\"FC<\",\"FG<\",\"FW<\"] # Same actions as above just a different order\n",
    "    if farmer_inx == 0:\n",
    "        possible_actions = possible_actions[0:4]\n",
    "    else:\n",
    "        possible_actions = possible_actions[4:8]\n",
    "    \n",
    "    possible_actions = remove_actions('C',possible_actions,s,farmer_inx)\n",
    "    possible_actions = remove_actions('G',possible_actions,s,farmer_inx)\n",
    "    possible_actions = remove_actions('W',possible_actions,s,farmer_inx)\n",
    "    \n",
    "    return possible_actions\n",
    "    "
   ]
  },
  {
   "cell_type": "code",
   "execution_count": 8,
   "metadata": {},
   "outputs": [
    {
     "data": {
      "text/plain": [
       "['F>', 'FC>', 'FG>', 'FW>']"
      ]
     },
     "execution_count": 8,
     "metadata": {},
     "output_type": "execute_result"
    }
   ],
   "source": [
    "action((('C', 'W'), ('F', 'G')))\n",
    "action(start_state)\n"
   ]
  },
  {
   "cell_type": "code",
   "execution_count": 107,
   "metadata": {},
   "outputs": [],
   "source": [
    "# succ(s,a) = apply action a while in state s, returns the new state\n",
    "# we are going to assume only valid actions are requested\n",
    "import copy\n",
    "def succ(s,a):\n",
    "    new_s = (list(s[0]),list(s[1]))\n",
    "    #print(new_s)\n",
    "    if '<' in a: \n",
    "        # moving farmer from right to left\n",
    "        new_s[1].remove(\"F\")\n",
    "        new_s[0].append(\"F\")\n",
    "        if len(a) == 3:\n",
    "            new_s[1].remove(str(a[1]))\n",
    "            new_s[0].append(str(a[1]))\n",
    "    else:\n",
    "        new_s[0].remove(\"F\")\n",
    "        new_s[1].append(\"F\")\n",
    "        if len(a) == 3:\n",
    "            new_s[0].remove(str(a[1]))\n",
    "            new_s[1].append(str(a[1]))\n",
    "    #print(new_s)\n",
    "    return (tuple(sorted(new_s[0])),tuple(sorted(new_s[1])))"
   ]
  },
  {
   "cell_type": "code",
   "execution_count": 10,
   "metadata": {},
   "outputs": [
    {
     "data": {
      "text/plain": [
       "(('C', 'W', 'F', 'G'), ())"
      ]
     },
     "execution_count": 10,
     "metadata": {},
     "output_type": "execute_result"
    }
   ],
   "source": [
    "#succ((('C', 'W'), ('F', 'G')),\"<F\")\n",
    "succ((('C', 'W'), ('F', 'G')),\"FG<\")\n",
    "#succ((('C', 'W'), ('F', 'G')),\"F>\")"
   ]
  },
  {
   "cell_type": "code",
   "execution_count": 11,
   "metadata": {},
   "outputs": [
    {
     "data": {
      "text/plain": [
       "['F']"
      ]
     },
     "execution_count": 11,
     "metadata": {},
     "output_type": "execute_result"
    }
   ],
   "source": [
    "list(('F',))"
   ]
  },
  {
   "cell_type": "code",
   "execution_count": 12,
   "metadata": {},
   "outputs": [],
   "source": [
    "# now code whether we are at the end\n",
    "def isEnd(s):\n",
    "    if len(s[0]) == 0:\n",
    "        return True\n",
    "    else:\n",
    "        return False"
   ]
  },
  {
   "cell_type": "code",
   "execution_count": 13,
   "metadata": {},
   "outputs": [
    {
     "data": {
      "text/plain": [
       "False"
      ]
     },
     "execution_count": 13,
     "metadata": {},
     "output_type": "execute_result"
    }
   ],
   "source": [
    "isEnd(((\"W\",\"F\"),(\"C\",\"G\")))"
   ]
  },
  {
   "cell_type": "code",
   "execution_count": 14,
   "metadata": {},
   "outputs": [
    {
     "data": {
      "text/plain": [
       "True"
      ]
     },
     "execution_count": 14,
     "metadata": {},
     "output_type": "execute_result"
    }
   ],
   "source": [
    "isEnd(((),(\"W\",\"F\",\"C\",\"G\")))"
   ]
  },
  {
   "cell_type": "code",
   "execution_count": 70,
   "metadata": {},
   "outputs": [],
   "source": [
    "# cost(s,a) = cost of action a in state s\n",
    "def cost(current_s,a):\n",
    "    s = succ(current_s,a)\n",
    "    max_cost = 1000\n",
    "    \n",
    "    # Find out which side the farmer is on\n",
    "    non_farmer_inx = 1\n",
    "    if 'F' in s[1]:\n",
    "        non_farmer_inx = 0\n",
    "\n",
    "    # Need to check and see if goat and cabbage are there without farmer\n",
    "    if \"C\" in s[non_farmer_inx] and \"G\" in s[non_farmer_inx]:\n",
    "        return max_cost\n",
    "    \n",
    "    # now check wolf and goat\n",
    "    if \"W\" in s[non_farmer_inx] and \"G\" in s[non_farmer_inx]:\n",
    "        return max_cost\n",
    "    \n",
    "    return 1"
   ]
  },
  {
   "cell_type": "code",
   "execution_count": 71,
   "metadata": {},
   "outputs": [
    {
     "data": {
      "text/plain": [
       "1000"
      ]
     },
     "execution_count": 71,
     "metadata": {},
     "output_type": "execute_result"
    }
   ],
   "source": [
    "cost(((\"C\",\"F\",\"G\"),(\"W\")),\"F>\")"
   ]
  },
  {
   "cell_type": "markdown",
   "metadata": {},
   "source": [
    "# Finish the Code Below\n",
    "Your task is to implement a breadth first search solution to the Goat, Sheep, Wolf Problem using the funtions above. Here is the function header and an example correct run."
   ]
  },
  {
   "cell_type": "code",
   "execution_count": 330,
   "metadata": {},
   "outputs": [],
   "source": [
    "\"\"\"def bfs(graph, start):\n",
    "    visited, queue = set(), [start]\n",
    "    while queue:\n",
    "        vertex = queue.pop(0)\n",
    "        if vertex not in visited:\n",
    "            visited.add(vertex)\n",
    "            queue.extend(graph[vertex] - visited)\n",
    "    return visited\n",
    "\n",
    "bfs(graph, 'A') # {'B', 'C', 'A', 'F', 'D', 'E'}\"\"\"\n",
    "\n",
    "# Now we are ready to implement a tree search\n",
    "import numpy as np\n",
    "def bfs(start):\n",
    "    queue, visited = [start], set()\n",
    "    currentState = start\n",
    "    \n",
    "    moves=0\n",
    "    depthCount = 0\n",
    "    \n",
    "    while not isEnd(currentState):\n",
    "        state = queue.pop(0)\n",
    "        #print state\n",
    "        visited.add(state)\n",
    "        \n",
    "        possibleActions = action(state)\n",
    "        for i,a in enumerate(possibleActions):\n",
    "            if cost(state,a) < 1000 and succ(state,a) not in visited:\n",
    "                moves += 1\n",
    "                currentState = succ(state,a)\n",
    "                #print currentState\n",
    "                queue.append(currentState)\n",
    "                if i==1:\n",
    "                    depthCount +=1\n",
    "                    \n",
    "    print moves-depthCount\n"
   ]
  },
  {
   "cell_type": "code",
   "execution_count": 331,
   "metadata": {},
   "outputs": [
    {
     "name": "stdout",
     "output_type": "stream",
     "text": [
      "7\n"
     ]
    }
   ],
   "source": [
    "bfs(start_state)"
   ]
  }
 ],
 "metadata": {
  "kernelspec": {
   "display_name": "Python 2",
   "language": "python",
   "name": "python2"
  }
 },
 "nbformat": 4,
 "nbformat_minor": 2
}
